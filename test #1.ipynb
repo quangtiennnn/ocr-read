{
 "cells": [
  {
   "cell_type": "code",
   "execution_count": 1,
   "metadata": {},
   "outputs": [],
   "source": [
    "import sys\n",
    "import json\n",
    "import os\n",
    "from process_pdf import process_pdf\n",
    "\n",
    "input_dir = 'database/input'\n",
    "output_dir = 'database/output'\n",
    "\n",
    "def get_pdf_files(directory):\n",
    "    return [f for f in os.listdir(directory) if f.endswith('.pdf')]\n",
    "\n",
    "def get_json_files(directory):\n",
    "    return [os.path.splitext(f)[0] for f in os.listdir(directory) if f.endswith('.json')]\n",
    "\n"
   ]
  },
  {
   "cell_type": "code",
   "execution_count": 3,
   "metadata": {},
   "outputs": [
    {
     "name": "stdout",
     "output_type": "stream",
     "text": [
      "Processed ND1.pdf and saved to database/output\\ND1.json\n",
      "Processed ND3-1.pdf and saved to database/output\\ND3-1.json\n",
      "Processed TT5.pdf and saved to database/output\\TT5.json\n"
     ]
    }
   ],
   "source": [
    "input_dir = 'database/input'\n",
    "output_dir = 'database/output'\n",
    "\n",
    "pdf_files = get_pdf_files(input_dir)\n",
    "json_files = get_json_files(output_dir)\n",
    "\n",
    "for pdf_file in pdf_files:\n",
    "    pdf_name = os.path.splitext(pdf_file)[0]\n",
    "    if pdf_name not in json_files:\n",
    "        pdf_file_path = os.path.join(input_dir, pdf_file)\n",
    "        output_file_path = os.path.join(output_dir, f'{pdf_name}.json')\n",
    "        data = process_pdf(pdf_file_path)\n",
    "        with open(output_file_path, 'w', encoding='utf-8') as f:\n",
    "            json.dump(data, f, ensure_ascii=False, indent=4)\n",
    "        print(f'Processed {pdf_file} and saved to {output_file_path}')\n",
    "    else:\n",
    "        print(f'Skipping {pdf_file}, corresponding JSON file already exists.')"
   ]
  }
 ],
 "metadata": {
  "kernelspec": {
   "display_name": "Python 3",
   "language": "python",
   "name": "python3"
  },
  "language_info": {
   "codemirror_mode": {
    "name": "ipython",
    "version": 3
   },
   "file_extension": ".py",
   "mimetype": "text/x-python",
   "name": "python",
   "nbconvert_exporter": "python",
   "pygments_lexer": "ipython3",
   "version": "3.11.11"
  }
 },
 "nbformat": 4,
 "nbformat_minor": 2
}
